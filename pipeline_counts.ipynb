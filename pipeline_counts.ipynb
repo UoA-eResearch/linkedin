{
 "cells": [
  {
   "cell_type": "code",
   "execution_count": 1,
   "id": "346323f5",
   "metadata": {},
   "outputs": [
    {
     "name": "stdout",
     "output_type": "stream",
     "text": [
      "7791\n",
      "7616\n"
     ]
    }
   ],
   "source": [
    "import pandas as pd\n",
    "from pprint import pprint\n",
    "import json\n",
    "from tqdm.auto import tqdm\n",
    "profiles = json.load(open(\"profiles.json\"))\n",
    "print(len(profiles))\n",
    "# De-duplicate profiles\n",
    "profile_dict = {}\n",
    "for p in profiles:\n",
    "    if \"profile_id\" in p:\n",
    "        profile_dict[p[\"profile_id\"]] = p\n",
    "print(len(profile_dict))"
   ]
  },
  {
   "cell_type": "code",
   "execution_count": 2,
   "id": "d985de8e",
   "metadata": {
    "scrolled": false
   },
   "outputs": [
    {
     "name": "stdout",
     "output_type": "stream",
     "text": [
      "[{'company': {'employeeCountRange': {'end': 500, 'start': 201},\n",
      "              'industries': ['Health, Wellness and Fitness']},\n",
      "  'companyLogoUrl': 'https://media-exp1.licdn.com/dms/image/C4D0BAQHe-V0An_SsVA/company-logo_',\n",
      "  'companyName': 'Diabetes UK',\n",
      "  'companyUrn': 'urn:li:fs_miniCompany:483655',\n",
      "  'entityUrn': 'urn:li:fs_position:(ACoAABYLkwwBZlmZPuUAK9ZUaloP8tnTfb1tUeo,1032229291)',\n",
      "  'geoLocationName': 'London, United Kingdom',\n",
      "  'geoUrn': 'urn:li:fs_geo:90009496',\n",
      "  'locationName': 'London, United Kingdom',\n",
      "  'region': 'urn:li:fs_region:(gb,4573)',\n",
      "  'timePeriod': {'endDate': {'month': 9, 'year': 2019},\n",
      "                 'startDate': {'month': 5, 'year': 2017}},\n",
      "  'title': 'Insight Analyst'},\n",
      " {'company': {'employeeCountRange': {'end': 5000, 'start': 1001},\n",
      "              'industries': ['Management Consulting']},\n",
      "  'companyLogoUrl': 'https://media-exp1.licdn.com/dms/image/C4D0BAQGkhUlLEL8LTw/company-logo_',\n",
      "  'companyName': 'PwC New Zealand',\n",
      "  'companyUrn': 'urn:li:fs_miniCompany:3255299',\n",
      "  'description': 'Provided data preparation, analysis, visualisation and '\n",
      "                 'reporting, for both qualitative and quantitative data.',\n",
      "  'entityUrn': 'urn:li:fs_position:(ACoAABYLkwwBZlmZPuUAK9ZUaloP8tnTfb1tUeo,630603774)',\n",
      "  'geoLocationName': 'Auckland, New Zealand',\n",
      "  'locationName': 'Auckland, New Zealand',\n",
      "  'timePeriod': {'endDate': {'month': 12, 'year': 2016},\n",
      "                 'startDate': {'month': 1, 'year': 2015}},\n",
      "  'title': 'Senior Analyst'},\n",
      " {'$anti_abuse_metadata': {'/companyName': {'sourceUrns': {'com.linkedin.common.urn.MemberUrn': 'urn:li:member:369857292'}},\n",
      "                           '/companyUrn': {'sourceUrns': {'com.linkedin.common.urn.MemberUrn': 'urn:li:member:369857292'}},\n",
      "                           '/description': {'sourceUrns': {'com.linkedin.common.urn.MemberUrn': 'urn:li:member:369857292'}},\n",
      "                           '/entityUrn': {'sourceUrns': {'com.linkedin.common.urn.MemberUrn': 'urn:li:member:369857292'}},\n",
      "                           '/geoLocationName': {'sourceUrns': {'com.linkedin.common.urn.MemberUrn': 'urn:li:member:369857292'}},\n",
      "                           '/geoUrn': {'sourceUrns': {'com.linkedin.common.urn.MemberUrn': 'urn:li:member:369857292'}},\n",
      "                           '/locationName': {'sourceUrns': {'com.linkedin.common.urn.MemberUrn': 'urn:li:member:369857292'}},\n",
      "                           '/promotion': {'sourceUrns': {'com.linkedin.common.urn.MemberUrn': 'urn:li:member:369857292'}},\n",
      "                           '/region': {'sourceUrns': {'com.linkedin.common.urn.MemberUrn': 'urn:li:member:369857292'}},\n",
      "                           '/title': {'sourceUrns': {'com.linkedin.common.urn.MemberUrn': 'urn:li:member:369857292'}}},\n",
      "  'companyName': 'Tuakiri, New Zealand Access Federation',\n",
      "  'description': 'Managed instances of Confluence, maintained project and '\n",
      "                 'technical documentation, maintained Shibboleth components.',\n",
      "  'entityUrn': 'urn:li:fs_position:(ACoAABYLkwwBZlmZPuUAK9ZUaloP8tnTfb1tUeo,582190440)',\n",
      "  'geoLocationName': 'Auckland, New Zealand',\n",
      "  'geoUrn': 'urn:li:fs_geo:100749476',\n",
      "  'locationName': 'Auckland, New Zealand',\n",
      "  'region': 'urn:li:fs_region:(nz,9194)',\n",
      "  'timePeriod': {'endDate': {'month': 12, 'year': 2014},\n",
      "                 'startDate': {'month': 7, 'year': 2013}},\n",
      "  'title': 'Technical Specialist'},\n",
      " {'company': {'employeeCountRange': {'end': 5000, 'start': 1001},\n",
      "              'industries': ['Higher Education']},\n",
      "  'companyLogoUrl': 'https://media-exp1.licdn.com/dms/image/C560BAQEhkI7FEsIdTg/company-logo_',\n",
      "  'companyName': 'The University of Auckland',\n",
      "  'companyUrn': 'urn:li:fs_miniCompany:3691',\n",
      "  'description': 'Deployed Shibboleth components for single sign-on, managed '\n",
      "                 'instances of Confluence and maintained project '\n",
      "                 'documentation, wrote technical documentation, provided user '\n",
      "                 'support.',\n",
      "  'entityUrn': 'urn:li:fs_position:(ACoAABYLkwwBZlmZPuUAK9ZUaloP8tnTfb1tUeo,582194325)',\n",
      "  'geoLocationName': 'Auckland, New Zealand',\n",
      "  'geoUrn': 'urn:li:fs_geo:100749476',\n",
      "  'locationName': 'Auckland, New Zealand',\n",
      "  'region': 'urn:li:fs_region:(nz,9194)',\n",
      "  'timePeriod': {'endDate': {'month': 10, 'year': 2011},\n",
      "                 'startDate': {'month': 5, 'year': 2010}},\n",
      "  'title': 'Software Engineer'},\n",
      " {'company': {'employeeCountRange': {'end': 5000, 'start': 1001},\n",
      "              'industries': ['Higher Education']},\n",
      "  'companyLogoUrl': 'https://media-exp1.licdn.com/dms/image/C560BAQEhkI7FEsIdTg/company-logo_',\n",
      "  'companyName': 'The University of Auckland',\n",
      "  'companyUrn': 'urn:li:fs_miniCompany:3691',\n",
      "  'description': 'Developed first iteration of an automated marking system in '\n",
      "                 'Java, that ran unit tests on student-written code.',\n",
      "  'entityUrn': 'urn:li:fs_position:(ACoAABYLkwwBZlmZPuUAK9ZUaloP8tnTfb1tUeo,582192629)',\n",
      "  'geoLocationName': 'Auckland, New Zealand',\n",
      "  'geoUrn': 'urn:li:fs_geo:100749476',\n",
      "  'locationName': 'Auckland, New Zealand',\n",
      "  'region': 'urn:li:fs_region:(nz,9194)',\n",
      "  'timePeriod': {'endDate': {'month': 12, 'year': 2009},\n",
      "                 'startDate': {'month': 1, 'year': 2009}},\n",
      "  'title': 'Research Assistant'}]\n"
     ]
    }
   ],
   "source": [
    "pprint(profiles[0][\"experience\"])"
   ]
  },
  {
   "cell_type": "code",
   "execution_count": 3,
   "id": "b3cf7b4b",
   "metadata": {
    "scrolled": false
   },
   "outputs": [
    {
     "data": {
      "application/vnd.jupyter.widget-view+json": {
       "model_id": "77713d6bf59649b19c44894fe2aaf473",
       "version_major": 2,
       "version_minor": 0
      },
      "text/plain": [
       "  0%|          | 0/7616 [00:00<?, ?it/s]"
      ]
     },
     "metadata": {},
     "output_type": "display_data"
    }
   ],
   "source": [
    "edges = {}\n",
    "for r in tqdm(profile_dict.values()):\n",
    "    industries = []\n",
    "    for i, e in enumerate(r[\"experience\"]):\n",
    "        if i < (len(r[\"experience\"]) - 1):\n",
    "            try:\n",
    "                year = e[\"timePeriod\"][\"startDate\"][\"year\"]\n",
    "                #assert year >= 2010 and year <= 2019\n",
    "                industry = e[\"company\"][\"industries\"][0]\n",
    "                prevIndustry = r[\"experience\"][i + 1][\"company\"][\"industries\"][0]\n",
    "            except:\n",
    "                continue\n",
    "            edge_id = prevIndustry + \"_\" + industry\n",
    "            if edge_id not in edges:\n",
    "                edges[edge_id] = {\n",
    "                    \"source\": prevIndustry,\n",
    "                    \"target\": industry,\n",
    "                    \"val\": 0\n",
    "                }\n",
    "            edges[edge_id][\"val\"] += 1"
   ]
  },
  {
   "cell_type": "code",
   "execution_count": 4,
   "id": "f626b2b6",
   "metadata": {},
   "outputs": [
    {
     "data": {
      "text/html": [
       "<div>\n",
       "<style scoped>\n",
       "    .dataframe tbody tr th:only-of-type {\n",
       "        vertical-align: middle;\n",
       "    }\n",
       "\n",
       "    .dataframe tbody tr th {\n",
       "        vertical-align: top;\n",
       "    }\n",
       "\n",
       "    .dataframe thead th {\n",
       "        text-align: right;\n",
       "    }\n",
       "</style>\n",
       "<table border=\"1\" class=\"dataframe\">\n",
       "  <thead>\n",
       "    <tr style=\"text-align: right;\">\n",
       "      <th></th>\n",
       "      <th>source</th>\n",
       "      <th>target</th>\n",
       "      <th>val</th>\n",
       "    </tr>\n",
       "  </thead>\n",
       "  <tbody>\n",
       "    <tr>\n",
       "      <th>7</th>\n",
       "      <td>Management Consulting</td>\n",
       "      <td>Management Consulting</td>\n",
       "      <td>3064</td>\n",
       "    </tr>\n",
       "    <tr>\n",
       "      <th>22</th>\n",
       "      <td>Accounting</td>\n",
       "      <td>Accounting</td>\n",
       "      <td>1568</td>\n",
       "    </tr>\n",
       "    <tr>\n",
       "      <th>104</th>\n",
       "      <td>Accounting</td>\n",
       "      <td>Management Consulting</td>\n",
       "      <td>679</td>\n",
       "    </tr>\n",
       "    <tr>\n",
       "      <th>6</th>\n",
       "      <td>Information Technology and Services</td>\n",
       "      <td>Information Technology and Services</td>\n",
       "      <td>533</td>\n",
       "    </tr>\n",
       "    <tr>\n",
       "      <th>49</th>\n",
       "      <td>Banking</td>\n",
       "      <td>Banking</td>\n",
       "      <td>469</td>\n",
       "    </tr>\n",
       "    <tr>\n",
       "      <th>...</th>\n",
       "      <td>...</td>\n",
       "      <td>...</td>\n",
       "      <td>...</td>\n",
       "    </tr>\n",
       "    <tr>\n",
       "      <th>1477</th>\n",
       "      <td>Food &amp; Beverages</td>\n",
       "      <td>Machinery</td>\n",
       "      <td>1</td>\n",
       "    </tr>\n",
       "    <tr>\n",
       "      <th>1474</th>\n",
       "      <td>Building Materials</td>\n",
       "      <td>Real Estate</td>\n",
       "      <td>1</td>\n",
       "    </tr>\n",
       "    <tr>\n",
       "      <th>1473</th>\n",
       "      <td>Renewables &amp; Environment</td>\n",
       "      <td>Utilities</td>\n",
       "      <td>1</td>\n",
       "    </tr>\n",
       "    <tr>\n",
       "      <th>1472</th>\n",
       "      <td>Hospital &amp; Health Care</td>\n",
       "      <td>Supermarkets</td>\n",
       "      <td>1</td>\n",
       "    </tr>\n",
       "    <tr>\n",
       "      <th>2753</th>\n",
       "      <td>Real Estate</td>\n",
       "      <td>Banking</td>\n",
       "      <td>1</td>\n",
       "    </tr>\n",
       "  </tbody>\n",
       "</table>\n",
       "<p>2754 rows × 3 columns</p>\n",
       "</div>"
      ],
      "text/plain": [
       "                                   source  \\\n",
       "7                   Management Consulting   \n",
       "22                             Accounting   \n",
       "104                            Accounting   \n",
       "6     Information Technology and Services   \n",
       "49                                Banking   \n",
       "...                                   ...   \n",
       "1477                     Food & Beverages   \n",
       "1474                   Building Materials   \n",
       "1473             Renewables & Environment   \n",
       "1472               Hospital & Health Care   \n",
       "2753                          Real Estate   \n",
       "\n",
       "                                   target   val  \n",
       "7                   Management Consulting  3064  \n",
       "22                             Accounting  1568  \n",
       "104                 Management Consulting   679  \n",
       "6     Information Technology and Services   533  \n",
       "49                                Banking   469  \n",
       "...                                   ...   ...  \n",
       "1477                            Machinery     1  \n",
       "1474                          Real Estate     1  \n",
       "1473                            Utilities     1  \n",
       "1472                         Supermarkets     1  \n",
       "2753                              Banking     1  \n",
       "\n",
       "[2754 rows x 3 columns]"
      ]
     },
     "execution_count": 4,
     "metadata": {},
     "output_type": "execute_result"
    }
   ],
   "source": [
    "df = pd.DataFrame(edges.values()).sort_values(by=\"val\", ascending=False)\n",
    "df"
   ]
  },
  {
   "cell_type": "code",
   "execution_count": 8,
   "id": "68846aba",
   "metadata": {},
   "outputs": [
    {
     "name": "stdout",
     "output_type": "stream",
     "text": [
      "CPU times: user 3.23 s, sys: 63.6 ms, total: 3.29 s\n",
      "Wall time: 3.29 s\n"
     ]
    }
   ],
   "source": [
    "%%time\n",
    "with pd.ExcelWriter('linkedin.xlsx', mode='a') as writer:\n",
    "    df.to_excel(writer, sheet_name='Edges (Industries)', index=False)"
   ]
  },
  {
   "cell_type": "code",
   "execution_count": 6,
   "id": "0331600e",
   "metadata": {},
   "outputs": [
    {
     "data": {
      "text/html": [
       "<div>\n",
       "<style scoped>\n",
       "    .dataframe tbody tr th:only-of-type {\n",
       "        vertical-align: middle;\n",
       "    }\n",
       "\n",
       "    .dataframe tbody tr th {\n",
       "        vertical-align: top;\n",
       "    }\n",
       "\n",
       "    .dataframe thead th {\n",
       "        text-align: right;\n",
       "    }\n",
       "</style>\n",
       "<table border=\"1\" class=\"dataframe\">\n",
       "  <thead>\n",
       "    <tr style=\"text-align: right;\">\n",
       "      <th></th>\n",
       "      <th>source</th>\n",
       "      <th>target</th>\n",
       "      <th>val</th>\n",
       "    </tr>\n",
       "  </thead>\n",
       "  <tbody>\n",
       "    <tr>\n",
       "      <th>7</th>\n",
       "      <td>Management Consulting</td>\n",
       "      <td>Management Consulting</td>\n",
       "      <td>3064</td>\n",
       "    </tr>\n",
       "    <tr>\n",
       "      <th>81</th>\n",
       "      <td>Government Administration</td>\n",
       "      <td>Government Administration</td>\n",
       "      <td>255</td>\n",
       "    </tr>\n",
       "    <tr>\n",
       "      <th>60</th>\n",
       "      <td>Government Administration</td>\n",
       "      <td>Management Consulting</td>\n",
       "      <td>177</td>\n",
       "    </tr>\n",
       "    <tr>\n",
       "      <th>59</th>\n",
       "      <td>Management Consulting</td>\n",
       "      <td>Government Administration</td>\n",
       "      <td>119</td>\n",
       "    </tr>\n",
       "  </tbody>\n",
       "</table>\n",
       "</div>"
      ],
      "text/plain": [
       "                       source                     target   val\n",
       "7       Management Consulting      Management Consulting  3064\n",
       "81  Government Administration  Government Administration   255\n",
       "60  Government Administration      Management Consulting   177\n",
       "59      Management Consulting  Government Administration   119"
      ]
     },
     "execution_count": 6,
     "metadata": {},
     "output_type": "execute_result"
    }
   ],
   "source": [
    "# Industries of interest\n",
    "ioi = [\"Management Consulting\", \"Government Administration\"]\n",
    "df[df.source.isin(ioi) & df.target.isin(ioi)]"
   ]
  }
 ],
 "metadata": {
  "kernelspec": {
   "display_name": "Python 3 (ipykernel)",
   "language": "python",
   "name": "python3"
  },
  "language_info": {
   "codemirror_mode": {
    "name": "ipython",
    "version": 3
   },
   "file_extension": ".py",
   "mimetype": "text/x-python",
   "name": "python",
   "nbconvert_exporter": "python",
   "pygments_lexer": "ipython3",
   "version": "3.8.5"
  }
 },
 "nbformat": 4,
 "nbformat_minor": 5
}
